{
 "cells": [
  {
   "cell_type": "code",
   "execution_count": 2,
   "metadata": {},
   "outputs": [],
   "source": [
    "import re\n",
    "import os\n",
    "import pandas as pd\n",
    "import torch\n",
    "import matplotlib.pyplot as plt\n",
    "import math\n",
    "import pyarrow\n",
    "import fastparquet\n",
    "import numpy as np\n",
    "\n"
   ]
  },
  {
   "cell_type": "code",
   "execution_count": 3,
   "metadata": {},
   "outputs": [
    {
     "name": "stdout",
     "output_type": "stream",
     "text": [
      "install cvxpy for L1 norm minimization for PeriodStrength fun (Ramanujan methods)\n"
     ]
    },
    {
     "data": {
      "text/plain": [
       "'0.0.9.4'"
      ]
     },
     "execution_count": 3,
     "metadata": {},
     "output_type": "execute_result"
    }
   ],
   "source": [
    "import spkit as sp\n",
    "from spkit.data import load_data\n",
    "sp.__version__"
   ]
  },
  {
   "cell_type": "code",
   "execution_count": 64,
   "metadata": {},
   "outputs": [
    {
     "data": {
      "text/plain": [
       "['eeg_AF3.csv', 'eeg_AF4.csv', 'eeg_PZ.csv', 'eeg_T7.csv', 'eeg_T8.csv']"
      ]
     },
     "execution_count": 64,
     "metadata": {},
     "output_type": "execute_result"
    }
   ],
   "source": [
    "\n",
    "ch_names = ['AF3', 'AF4', 'PZ', 'T7', 'T8']\n",
    "\n"
   ]
  },
  {
   "cell_type": "code",
   "execution_count": 106,
   "metadata": {},
   "outputs": [],
   "source": [
    "def readEEgs(root_dir):\n",
    "    dirs = os.listdir(root_dir)\n",
    "    eegs = []\n",
    "    for dir in dirs:\n",
    "        path = os.path.join(root_dir,dir)\n",
    "        eeg = pd.read_parquet(path)\n",
    "        eeg = torch.from_numpy(eeg.values)\n",
    "        eegs.append(eeg)\n",
    "    return eegs\n",
    "\n",
    "\n",
    "def concatenateChannels(eeg_channels):\n",
    "    shape = eeg_channels[0].shape\n",
    "\n",
    "    eeg_concat = torch.zeros((shape[0],shape[1],len(eeg_channels)))\n",
    "\n",
    "    for i, eeg in enumerate(eeg_channels):\n",
    "        eeg_concat[:,:,i] = eeg\n",
    "    \n",
    "    return(eeg_concat)\n",
    "\n",
    "\n",
    "#plots\n",
    "def plotMultiChannel(eeg):\n",
    "    t = np.arange(eeg.shape[0])/fs\n",
    "    plt.figure(figsize=(15,8))\n",
    "    plt.subplot(221)\n",
    "    plt.plot(t,eeg+np.arange(-2,3)*200)\n",
    "    plt.xlim([t[0],t[-1]])\n",
    "    plt.xlabel('time (sec)')\n",
    "\n",
    "    plt.grid()\n",
    "    plt.title(' 5 channel - EEG Signal (filtered) ')"
   ]
  },
  {
   "cell_type": "code",
   "execution_count": 102,
   "metadata": {},
   "outputs": [],
   "source": [
    "def ATAR_Filtering(eegs):\n",
    "    filtered_eeg = torch.zeros(eegs.shape)\n",
    "    for i, eeg in enumerate(eegs):\n",
    "        eeg = sp.eeg.ATAR(eeg.numpy().copy(),wv='db4', winsize=128, beta=0.1,thr_method='ipr',OptMode='soft', verbose=1)\n",
    "        filtered_eeg[i] = torch.from_numpy(eeg)\n",
    "    return filtered_eeg\n"
   ]
  },
  {
   "attachments": {},
   "cell_type": "markdown",
   "metadata": {},
   "source": [
    "Wave-Separator"
   ]
  },
  {
   "cell_type": "code",
   "execution_count": 125,
   "metadata": {},
   "outputs": [],
   "source": [
    "def WaveSeparatorTorch(eeg):\n",
    "    start = 0\n",
    "    end = -1\n",
    "\n",
    "    waves = []\n",
    "\n",
    "    for w_ind in range(eeg.shape[0]-1):\n",
    "        past_wave = eeg[w_ind-1]\n",
    "        this_wave = eeg[w_ind]\n",
    "        next_wave = eeg[w_ind+1]\n",
    "\n",
    "        if( (past_wave >= this_wave) and (this_wave < next_wave) ):\n",
    "            end = w_ind\n",
    "            wave = eeg[start:end+1]\n",
    "            waves.append(wave)\n",
    "            start = end\n",
    "            end = -1\n",
    "\n",
    "    return waves[1:]"
   ]
  },
  {
   "cell_type": "code",
   "execution_count": 126,
   "metadata": {},
   "outputs": [],
   "source": [
    "def WaveSeparator(eeg):\n",
    "    start = 0\n",
    "    end = -1\n",
    "\n",
    "    waves = []\n",
    "\n",
    "    for w_ind in range(eeg.shape[0]-1):\n",
    "        past_wave = eeg.iloc[w_ind-1]\n",
    "        this_wave = eeg.iloc[w_ind]\n",
    "        next_wave = eeg.iloc[w_ind+1]\n",
    "\n",
    "        \n",
    "\n",
    "  \n",
    "        if( (past_wave >= this_wave and this_wave < next_wave) ):\n",
    "\n",
    "            end = w_ind\n",
    "\n",
    "            wave = eeg.iloc[start:end+1]\n",
    "            waves.append(wave)\n",
    "            start = end\n",
    "            end= -1\n",
    "                \n",
    "\n",
    "    return waves[1:-1]\n",
    "\n"
   ]
  },
  {
   "cell_type": "code",
   "execution_count": 127,
   "metadata": {},
   "outputs": [],
   "source": [
    "def defineWaves(waves):\n",
    "    new_waves = []\n",
    "    means = pd.Series(dtype='float32')\n",
    "    for wave in waves:\n",
    "        means = means.append(pd.Series([wave.mean()], dtype='float32'))\n",
    "    tot_mean = means.mean()\n",
    "   \n",
    "\n",
    "    for wave in waves:\n",
    "        w_mean = wave.mean()\n",
    "        new_wave = pd.Series([round(w_mean - tot_mean, 2)])\n",
    "        for w in wave:\n",
    "            new_wave = new_wave.append(pd.Series([round(w - w_mean,2)], dtype='float32'))\n",
    "        new_waves.append(torch.from_numpy(new_wave.values))\n",
    "\n",
    "    return new_waves"
   ]
  },
  {
   "cell_type": "code",
   "execution_count": 128,
   "metadata": {},
   "outputs": [],
   "source": [
    "def defineWavesTorch(waves, eeg_mean):\n",
    "\n",
    "    for ind, wave in enumerate(waves):\n",
    "        \n",
    "        wave = wave - eeg_mean\n",
    "        wave = torch.round(wave * 10**3) / (10**3)\n",
    "        \n",
    "        waves[ind] = wave\n",
    "\n",
    "    return waves"
   ]
  },
  {
   "cell_type": "code",
   "execution_count": 129,
   "metadata": {},
   "outputs": [],
   "source": [
    "def cutAndMergeWaves(d_waves):\n",
    "\n",
    "    merged_waves = torch.zeros((len(d_waves),10))\n",
    "\n",
    "    for i, wave in enumerate(d_waves):\n",
    "\n",
    "        if (wave.shape[0] <= 10):\n",
    "\n",
    "\n",
    "            merged_waves[ i, :wave.shape[0]] = wave\n",
    "\n",
    "    merged_waves = merged_waves[ merged_waves.sum(dim=1) != 0 ]\n",
    "\n",
    "        \n",
    "    return merged_waves"
   ]
  },
  {
   "cell_type": "code",
   "execution_count": 141,
   "metadata": {},
   "outputs": [],
   "source": [
    "def normalize_eeg(eeg):\n",
    "    if(type(eeg) == pd.core.frame.DataFrame):\n",
    "        eeg = torch.from_numpy(eeg.values)\n",
    "    elif(type(eeg) == np.ndarray ):\n",
    "        eeg = torch.from_numpy(eeg)\n",
    "\n",
    "    min_val = torch.min(eeg)\n",
    "    max_val = torch.max(eeg)\n",
    "    return (eeg - min_val) / (max_val - min_val)\n"
   ]
  },
  {
   "cell_type": "code",
   "execution_count": 131,
   "metadata": {},
   "outputs": [],
   "source": [
    "def EEGPipelineSingle(eeg):\n",
    "    eeg = normalize_eeg(eeg)\n",
    "    eeg_mean = eeg.mean()\n",
    "    waves = WaveSeparatorTorch(eeg)\n",
    "    waves = defineWavesTorch(waves, eeg_mean)\n",
    "    waves = cutAndMergeWaves(waves)\n",
    "    return waves"
   ]
  },
  {
   "cell_type": "code",
   "execution_count": 132,
   "metadata": {},
   "outputs": [],
   "source": [
    "def EEGPipelineElectrode(electrode_data):\n",
    "    waves_list = []\n",
    "    electrode_data = torch.from_numpy(electrode_data.values)\n",
    "    for eeg in (electrode_data):\n",
    "        eeg = normalize_eeg(eeg)\n",
    "        eeg_mean = eeg.mean()\n",
    "        waves = WaveSeparatorTorch(eeg)\n",
    "        waves = defineWavesTorch(waves, eeg_mean)\n",
    "        waves = cutAndMergeWaves(waves)\n",
    "        waves_list.append(waves)\n",
    "        \n",
    "    return torch.cat(waves_list, dim=0)"
   ]
  },
  {
   "cell_type": "code",
   "execution_count": 186,
   "metadata": {},
   "outputs": [],
   "source": []
  },
  {
   "cell_type": "code",
   "execution_count": null,
   "metadata": {},
   "outputs": [],
   "source": [
    "def remove_trailing_zeros(tensor):\n",
    "    # Get the non-zero indices\n",
    "    non_zero_indices = tensor.nonzero()\n",
    "\n",
    "    # Check if the tensor has any non-zero values\n",
    "    if non_zero_indices.numel() == 0:\n",
    "        return tensor\n",
    "    else:\n",
    "        # Return the tensor with only the non-zero values\n",
    "        return tensor[:non_zero_indices[-1] + 1]\n",
    "\n",
    "'''\n",
    "# Cuts out from each wave the artifact of the added zeros if it is smaller than 10 timesteps\n",
    "def reduceWaves(waves):\n",
    "    for wave in waves:\n",
    "        wave = remove_trailing_zeros(wave)\n",
    "        '''"
   ]
  },
  {
   "cell_type": "code",
   "execution_count": 207,
   "metadata": {},
   "outputs": [],
   "source": [
    "def scrambleAndOrderWaves(eeg_waves):\n",
    "\n",
    "    if(type(eeg_waves) == np.ndarray):\n",
    "        eeg_waves = torch.from_numpy(eeg_waves)\n",
    "        print(\"Changed from ndarray to tensor\")\n",
    "\n",
    "    eeg_waves = mixRows(eeg_waves)\n",
    "    ordered_waves = []\n",
    "    waves = []\n",
    "    for size in range(10,-1,-1):\n",
    "\n",
    "        \n",
    "        for wave in eeg_waves:\n",
    "\n",
    "            #Find last non-zero element (= length)\n",
    "            length = torch.nonzero(wave, as_tuple=True)[0].max() \n",
    "           \n",
    "            \n",
    "            if (length == size):\n",
    "                waves.append(wave)\n",
    "\n",
    "    return torch.stack(waves) \n",
    "   \n",
    "\n",
    "def mixRows(eeg):\n",
    "    permutation = torch.randperm(eeg.size()[0])\n",
    "    mixed_tensor = eeg[permutation, :]\n",
    "    return mixed_tensor"
   ]
  },
  {
   "cell_type": "code",
   "execution_count": null,
   "metadata": {},
   "outputs": [],
   "source": [
    "# all_eeg = np.load(r\"C:\\Users\\bruno\\OneDrive\\Desktop\\BrainReader RESEARCH\\Datasets\\Imagenet_EEG_parquet\\Train\\ATAR_numpy_eeg\\ATAR_all.npy\")\n",
    "def draftEEGATARPipeline(ATAR_eeg):\n",
    "    shape = ATAR_eeg.shape\n",
    "    waves_list = []\n",
    "    for c in range(0,shape[2]):\n",
    "        for i in range(0,shape[0]):\n",
    "            eeg = ATAR_eeg[i,:,c]\n",
    "\n",
    "            eeg = normalize_eeg(eeg)\n",
    "            eeg_mean = eeg.mean()\n",
    "            waves = WaveSeparatorTorch(eeg)\n",
    "            waves = defineWavesTorch(waves, eeg_mean)\n",
    "            waves = cutAndMergeWaves(waves)\n",
    "            waves_list.append(waves)\n",
    "\n",
    "    waves_list = torch.cat(waves_list, dim=0)\n",
    "    scrambleAndOrderWaves(waves)\n",
    "    \n",
    "    return scrambleAndOrderWaves(waves_list)"
   ]
  }
 ],
 "metadata": {
  "kernelspec": {
   "display_name": "FinalConda",
   "language": "python",
   "name": "python3"
  },
  "language_info": {
   "codemirror_mode": {
    "name": "ipython",
    "version": 3
   },
   "file_extension": ".py",
   "mimetype": "text/x-python",
   "name": "python",
   "nbconvert_exporter": "python",
   "pygments_lexer": "ipython3",
   "version": "3.10.9"
  },
  "orig_nbformat": 4,
  "vscode": {
   "interpreter": {
    "hash": "25afaf84f282036849c5f93de34132dfaaca87c5cd745e7a8c612c0cef9b1ff1"
   }
  }
 },
 "nbformat": 4,
 "nbformat_minor": 2
}
